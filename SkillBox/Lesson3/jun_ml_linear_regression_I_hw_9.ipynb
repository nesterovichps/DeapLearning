{
  "nbformat": 4,
  "nbformat_minor": 0,
  "metadata": {
    "colab": {
      "name": "jun_ml_linear_regression_I-hw_9.ipynb",
      "provenance": [],
      "collapsed_sections": []
    },
    "kernelspec": {
      "display_name": "Python 3",
      "language": "python",
      "name": "python3"
    },
    "language_info": {
      "codemirror_mode": {
        "name": "ipython",
        "version": 3
      },
      "file_extension": ".py",
      "mimetype": "text/x-python",
      "name": "python",
      "nbconvert_exporter": "python",
      "pygments_lexer": "ipython3",
      "version": "3.6.3"
    }
  },
  "cells": [
    {
      "cell_type": "markdown",
      "metadata": {
        "id": "9zmQCpvzzeTK"
      },
      "source": [
        "### Урок 9. Домашняя работа\n",
        "\n",
        "Даны точки $x$ и значения в этих точках $y$. Нормализуйте $y$ с помощью *z-score* и постройте график зависимости нормализованных значений от $x$. Для графика используйте `.scatter(x,y_tansformed)`"
      ]
    },
    {
      "cell_type": "code",
      "metadata": {
        "id": "O8W9tZnFzeTL",
        "outputId": "cb5296ad-1cb3-4925-961c-149132c1bdf3"
      },
      "source": [
        "import numpy as np\n",
        "from sklearn.preprocessing import StandardScaler\n",
        "from matplotlib import pyplot as plt\n",
        "\n",
        "x = np.linspace(1,10,num=10)\n",
        "y = np.array(\n",
        "    [1.,  3.,  4.,  2., 10.,  5.,  5.,  2.,  5., 10.],\n",
        "    dtype=np.float32\n",
        ")\n",
        "\n",
        "# -- ВАШ КОД ТУТ --"
      ],
      "execution_count": null,
      "outputs": [
        {
          "output_type": "display_data",
          "data": {
            "image/png": "[encoded data removed]",
            "text/plain": [
              "<Figure size 432x288 with 1 Axes>"
            ]
          },
          "metadata": {
            "tags": [],
            "needs_background": "light"
          }
        }
      ]
    }
  ]
}