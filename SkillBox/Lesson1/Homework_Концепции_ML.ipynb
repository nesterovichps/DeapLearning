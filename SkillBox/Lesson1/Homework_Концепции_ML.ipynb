{
 "nbformat": 4,
 "nbformat_minor": 0,
 "metadata": {
  "kernelspec": {
   "display_name": "Python 3",
   "language": "python",
   "name": "python3"
  },
  "language_info": {
   "codemirror_mode": {
    "name": "ipython",
    "version": 3
   },
   "file_extension": ".py",
   "mimetype": "text/x-python",
   "name": "python",
   "nbconvert_exporter": "python",
   "pygments_lexer": "ipython3",
   "version": "3.6.3"
  },
  "colab": {
   "name": "Homework_Концепции_ML.ipynb",
   "provenance": [],
   "collapsed_sections": [],
   "toc_visible": true
  }
 },
 "cells": [
  {
   "cell_type": "markdown",
   "metadata": {
    "id": "AA9qiddM7MxM"
   },
   "source": [
    "# Основные концепции Machine Learning. Домашняя работа"
   ]
  },
  {
   "cell_type": "code",
   "metadata": {
    "id": "_XMI1aaX7MxQ"
   },
   "source": [
    "### Тут нужно сделать импорты всех необходимых библиотек ###"
   ],
   "execution_count": 3,
   "outputs": []
  },
  {
   "cell_type": "code",
   "metadata": {
    "id": "0Kjpkv3o7MxZ"
   },
   "source": [
    "import pandas as pd\n",
    "import numpy as np\n",
    "import matplotlib\n",
    "import matplotlib.pyplot as plt\n",
    "from sklearn.linear_model import LinearRegression"
   ],
   "execution_count": 4,
   "outputs": [
    {
     "name": "stderr",
     "output_type": "stream",
     "text": [
      "Matplotlib is building the font cache; this may take a moment.\n"
     ]
    }
   ]
  },
  {
   "cell_type": "code",
   "metadata": {
    "id": "fD4otYne7Mxi"
   },
   "source": [
    "### Здесь требуется загрузить датасет phones.csv ###\n",
    "phone=pd.read_csv('1.8_phones.csv')"
   ],
   "execution_count": 5,
   "outputs": []
  },
  {
   "cell_type": "code",
   "metadata": {
    "id": "HzmOX-Yd7Mxo"
   },
   "source": [
    "phone.head\n"
   ],
   "execution_count": 7,
   "outputs": [
    {
     "data": {
      "text/plain": "<bound method NDFrame.head of     disk       os  price  year\n0     64  Android   7256  2016\n1    128  Android   7623  2015\n2     64  Android   1916  2010\n3    512      iOS  15045  2017\n4     16  Android   4478  2013\n..   ...      ...    ...   ...\n95   512      iOS   8398  2011\n96    64  Android   7197  2016\n97    32  Android   5694  2014\n98    32  Android   7589  2016\n99   256      iOS   9533  2014\n\n[100 rows x 4 columns]>"
     },
     "execution_count": 7,
     "metadata": {},
     "output_type": "execute_result"
    }
   ]
  },
  {
   "cell_type": "code",
   "metadata": {
    "id": "a2Hw3Jso7Mxt"
   },
   "source": [
    "### Опционально: используя matplotlib, можно сделать визуализацию загруженного датасета ###\n",
    "fig = plt.figure(figsize=(5,5))\n",
    "ax = plt.axes()\n",
    "ax.scatter(phone['disk'],phone['price'], s=50)\n",
    "plt.show()"
   ],
   "execution_count": 14,
   "outputs": [
    {
     "data": {
      "text/plain": "<Figure size 360x360 with 1 Axes>",
      "image/png": "[encoded data removed]"
     },
     "metadata": {
      "needs_background": "light"
     },
     "output_type": "display_data"
    }
   ]
  },
  {
   "cell_type": "code",
   "metadata": {
    "id": "rXhrelNp7Mx0"
   },
   "source": [],
   "execution_count": 16,
   "outputs": []
  },
  {
   "cell_type": "markdown",
   "metadata": {
    "id": "h1rvGoCB7Mx5"
   },
   "source": [
    "Задание 1: обучить модель регрессии"
   ]
  },
  {
   "cell_type": "code",
   "metadata": {
    "id": "XY23EgHH7Mx6"
   },
   "source": [
    "### Тут нужно выгрузить в соответствующие переменные выбранные признаки ###\n",
    "X=phone[['disk']]\n",
    "y=phone['price']\n",
    "\n"
   ],
   "execution_count": null,
   "outputs": []
  },
  {
   "cell_type": "code",
   "metadata": {
    "id": "US0Ox9F57Mx9"
   },
   "source": [
    "### Здесь следует запустить процесс обучения ###\n",
    "### и продемонстрировать работоспобность обученной модели ###\n",
    "reg=LinearRegression().fit(X,y)\n",
    "reg.predict(X[0:1])[0]"
   ],
   "execution_count": 22,
   "outputs": [
    {
     "data": {
      "text/plain": "6120.265447090668"
     },
     "execution_count": 22,
     "metadata": {},
     "output_type": "execute_result"
    }
   ]
  },
  {
   "cell_type": "code",
   "metadata": {
    "id": "1sDXbyZU7MyC"
   },
   "source": [
    "fig = plt.figure(figsize=(5,5))\n",
    "ax=plt.axes()\n",
    "ax.scatter(phone['disk'],phone['price'],s=50)\n",
    "ax.plot([X.disk.min(),X.disk.max()],[reg.predict(X[:]).min(),reg.predict(X[:]).max()],c='red')\n",
    "plt.show()"
   ],
   "execution_count": 43,
   "outputs": [
    {
     "data": {
      "text/plain": "<Figure size 360x360 with 1 Axes>",
      "image/png": "[encoded data removed]"
     },
     "metadata": {
      "needs_background": "light"
     },
     "output_type": "display_data"
    }
   ]
  },
  {
   "cell_type": "markdown",
   "metadata": {
    "id": "yuclRz_n7MyE"
   },
   "source": [
    "Задание 2: обучить модель классификации"
   ]
  },
  {
   "cell_type": "code",
   "metadata": {
    "id": "J4Ht5MM97MyF"
   },
   "source": [
    "### Тут нужно выгрузить в соответствующие переменные выбранные признаки ###\n",
    "# X = \n",
    "# y ="
   ],
   "execution_count": null,
   "outputs": []
  },
  {
   "cell_type": "code",
   "metadata": {
    "id": "DMpz3V8g7MyI"
   },
   "source": [
    "### Здесь следует запустить процесс обучения ###\n",
    "### и продемонстрировать работоспобность обученной модели ###"
   ],
   "execution_count": null,
   "outputs": []
  },
  {
   "cell_type": "code",
   "metadata": {
    "id": "hS-diYYZ7MyK"
   },
   "source": [
    ""
   ],
   "execution_count": null,
   "outputs": []
  },
  {
   "cell_type": "markdown",
   "metadata": {
    "id": "PLUEg9NE7MyM"
   },
   "source": [
    "Задание 3: обучить модель кластеризации"
   ]
  },
  {
   "cell_type": "code",
   "metadata": {
    "id": "uI70MBPL7MyN"
   },
   "source": [
    "### Тут нужно выгрузить в соответствующие переменные выбранные признаки ###\n",
    "# X = "
   ],
   "execution_count": null,
   "outputs": []
  },
  {
   "cell_type": "code",
   "metadata": {
    "id": "Fn65CuKw7MyR"
   },
   "source": [
    "### Здесь следует запустить процесс обучения ###\n",
    "### и продемонстрировать работоспобность обученной модели ###"
   ],
   "execution_count": null,
   "outputs": []
  },
  {
   "cell_type": "code",
   "metadata": {
    "id": "Icl5e_aO7MyU"
   },
   "source": [
    ""
   ],
   "execution_count": null,
   "outputs": []
  },
  {
   "cell_type": "code",
   "metadata": {
    "id": "Ci4wJ02o7MyX"
   },
   "source": [
    ""
   ],
   "execution_count": null,
   "outputs": []
  }
 ]
}